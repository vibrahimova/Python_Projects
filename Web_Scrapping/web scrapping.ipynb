{
 "cells": [
  {
   "cell_type": "markdown",
   "metadata": {},
   "source": [
    "#### Web Scraping"
   ]
  },
  {
   "cell_type": "code",
   "execution_count": 1,
   "metadata": {},
   "outputs": [],
   "source": [
    "# importing necessary libraries\n",
    "import pandas as pd\n",
    "import numpy as np\n",
    "import requests\n",
    "import re\n",
    "from bs4 import BeautifulSoup"
   ]
  },
  {
   "cell_type": "code",
   "execution_count": 2,
   "metadata": {},
   "outputs": [
    {
     "data": {
      "text/plain": [
       "'   95 000  $    Porsche Cayenne  2021, 3.0 L, 7 000 km  Bakı, 14.05.2023 13:28  '"
      ]
     },
     "execution_count": 2,
     "metadata": {},
     "output_type": "execute_result"
    }
   ],
   "source": [
    "# get url and parse it\n",
    "\n",
    "url='https://turbo.az'\n",
    "page=requests.get(url)\n",
    "html=BeautifulSoup(page.content, 'html.parser')\n",
    "cars_info=html.find_all('div', class_='products-i__bottom')\n",
    "cars=re.sub('<[^>]+>', ' ', str(cars_info[0]))\n",
    "cars"
   ]
  },
  {
   "cell_type": "code",
   "execution_count": 4,
   "metadata": {},
   "outputs": [],
   "source": [
    "# create dataframe\n",
    "data=pd.DataFrame()"
   ]
  },
  {
   "cell_type": "code",
   "execution_count": 5,
   "metadata": {},
   "outputs": [],
   "source": [
    "# scrape the pages and add them to the dataframe\n",
    "\n",
    "for n in range(1, 1500):\n",
    "    url1='https://turbo.az/autos/vip?page=9&q%5Bmake%5D%5B%5D='\n",
    "    page=requests.get(url1)\n",
    "    html=BeautifulSoup(page.content, 'html.parser')\n",
    "    cars_info=html.find_all('div', class_='products-i__bottom')\n",
    "    for i in range(len(cars_info)):\n",
    "        cars=re.sub('<[^>]+>', ' ', str(cars_info[i]))\n",
    "        price=cars.split('  ')[1].replace(' ', '')\n",
    "        currency=cars.split('  ')[2]\n",
    "        make_model=cars.split('  ')[4]\n",
    "        year=cars.split('  ')[5].split(',')[0]\n",
    "        engine=cars.split('  ')[5].split(',')[1].strip()\n",
    "        driven=cars.split('  ')[5].split(',')[2].strip()\n",
    "        turbo=turbo.append({\n",
    "            'Make_model': make_model,\n",
    "            'Price':price,\n",
    "            'Currency': currency,\n",
    "            'Engine': engine,\n",
    "            'Driven_km': driven,\n",
    "            'Production_year': year\n",
    "        }, ignore_index=True)"
   ]
  },
  {
   "cell_type": "code",
   "execution_count": 3,
   "metadata": {},
   "outputs": [
    {
     "data": {
      "text/html": [
       "<div>\n",
       "<style scoped>\n",
       "    .dataframe tbody tr th:only-of-type {\n",
       "        vertical-align: middle;\n",
       "    }\n",
       "\n",
       "    .dataframe tbody tr th {\n",
       "        vertical-align: top;\n",
       "    }\n",
       "\n",
       "    .dataframe thead th {\n",
       "        text-align: right;\n",
       "    }\n",
       "</style>\n",
       "<table border=\"1\" class=\"dataframe\">\n",
       "  <thead>\n",
       "    <tr style=\"text-align: right;\">\n",
       "      <th></th>\n",
       "      <th>Unnamed: 0</th>\n",
       "      <th>Make_model</th>\n",
       "      <th>Price</th>\n",
       "      <th>Currency</th>\n",
       "      <th>Engine</th>\n",
       "      <th>Driven_km</th>\n",
       "      <th>Production_year</th>\n",
       "    </tr>\n",
       "  </thead>\n",
       "  <tbody>\n",
       "    <tr>\n",
       "      <th>0</th>\n",
       "      <td>0</td>\n",
       "      <td>Kia Rio</td>\n",
       "      <td>23500</td>\n",
       "      <td>AZN</td>\n",
       "      <td>1.6 L</td>\n",
       "      <td>106 000 km</td>\n",
       "      <td>2018</td>\n",
       "    </tr>\n",
       "    <tr>\n",
       "      <th>1</th>\n",
       "      <td>1</td>\n",
       "      <td>Mercedes C 300</td>\n",
       "      <td>23800</td>\n",
       "      <td>AZN</td>\n",
       "      <td>3.0 L</td>\n",
       "      <td>198 000 km</td>\n",
       "      <td>2011</td>\n",
       "    </tr>\n",
       "    <tr>\n",
       "      <th>2</th>\n",
       "      <td>2</td>\n",
       "      <td>Mercedes E 220</td>\n",
       "      <td>45500</td>\n",
       "      <td>$</td>\n",
       "      <td>2.2 L</td>\n",
       "      <td>70 600 km</td>\n",
       "      <td>2019</td>\n",
       "    </tr>\n",
       "    <tr>\n",
       "      <th>3</th>\n",
       "      <td>3</td>\n",
       "      <td>Mercedes E 220</td>\n",
       "      <td>38900</td>\n",
       "      <td>$</td>\n",
       "      <td>2.0 L</td>\n",
       "      <td>153 000 km</td>\n",
       "      <td>2017</td>\n",
       "    </tr>\n",
       "    <tr>\n",
       "      <th>4</th>\n",
       "      <td>4</td>\n",
       "      <td>Porsche Panamera 4S</td>\n",
       "      <td>76500</td>\n",
       "      <td>$</td>\n",
       "      <td>2.9 L</td>\n",
       "      <td>41 000 km</td>\n",
       "      <td>2018</td>\n",
       "    </tr>\n",
       "  </tbody>\n",
       "</table>\n",
       "</div>"
      ],
      "text/plain": [
       "   Unnamed: 0           Make_model  Price Currency Engine   Driven_km  \\\n",
       "0           0              Kia Rio  23500      AZN  1.6 L  106 000 km   \n",
       "1           1       Mercedes C 300  23800      AZN  3.0 L  198 000 km   \n",
       "2           2       Mercedes E 220  45500        $  2.2 L   70 600 km   \n",
       "3           3       Mercedes E 220  38900        $  2.0 L  153 000 km   \n",
       "4           4  Porsche Panamera 4S  76500        $  2.9 L   41 000 km   \n",
       "\n",
       "   Production_year  \n",
       "0             2018  \n",
       "1             2011  \n",
       "2             2019  \n",
       "3             2017  \n",
       "4             2018  "
      ]
     },
     "execution_count": 3,
     "metadata": {},
     "output_type": "execute_result"
    }
   ],
   "source": [
    "data.head()"
   ]
  },
  {
   "cell_type": "markdown",
   "metadata": {},
   "source": [
    "### Data Preprocessing"
   ]
  },
  {
   "cell_type": "code",
   "execution_count": 4,
   "metadata": {},
   "outputs": [],
   "source": [
    "data['Make']=data['Make_model'].str.split(' ', expand=True)[0]\n",
    "data['Model']=data['Make_model'].str.split(' ', expand=True)[1]\n",
    "data['Make']=np.where(data['Make']=='Mercedes', 'Mercedes-Benz', data['Make'])"
   ]
  },
  {
   "cell_type": "code",
   "execution_count": 7,
   "metadata": {},
   "outputs": [
    {
     "data": {
      "text/html": [
       "<div>\n",
       "<style scoped>\n",
       "    .dataframe tbody tr th:only-of-type {\n",
       "        vertical-align: middle;\n",
       "    }\n",
       "\n",
       "    .dataframe tbody tr th {\n",
       "        vertical-align: top;\n",
       "    }\n",
       "\n",
       "    .dataframe thead th {\n",
       "        text-align: right;\n",
       "    }\n",
       "</style>\n",
       "<table border=\"1\" class=\"dataframe\">\n",
       "  <thead>\n",
       "    <tr style=\"text-align: right;\">\n",
       "      <th></th>\n",
       "      <th>Unnamed: 0</th>\n",
       "      <th>Make_model</th>\n",
       "      <th>Price</th>\n",
       "      <th>Currency</th>\n",
       "      <th>Engine</th>\n",
       "      <th>Driven_km</th>\n",
       "      <th>Production_year</th>\n",
       "      <th>Make</th>\n",
       "      <th>Model</th>\n",
       "    </tr>\n",
       "  </thead>\n",
       "  <tbody>\n",
       "    <tr>\n",
       "      <th>0</th>\n",
       "      <td>0</td>\n",
       "      <td>Kia Rio</td>\n",
       "      <td>23500</td>\n",
       "      <td>AZN</td>\n",
       "      <td>1.6 L</td>\n",
       "      <td>106 000 km</td>\n",
       "      <td>2018</td>\n",
       "      <td>Kia</td>\n",
       "      <td>Rio</td>\n",
       "    </tr>\n",
       "    <tr>\n",
       "      <th>1</th>\n",
       "      <td>1</td>\n",
       "      <td>Mercedes C 300</td>\n",
       "      <td>23800</td>\n",
       "      <td>AZN</td>\n",
       "      <td>3.0 L</td>\n",
       "      <td>198 000 km</td>\n",
       "      <td>2011</td>\n",
       "      <td>Mercedes-Benz</td>\n",
       "      <td>C</td>\n",
       "    </tr>\n",
       "    <tr>\n",
       "      <th>2</th>\n",
       "      <td>2</td>\n",
       "      <td>Mercedes E 220</td>\n",
       "      <td>45500</td>\n",
       "      <td>$</td>\n",
       "      <td>2.2 L</td>\n",
       "      <td>70 600 km</td>\n",
       "      <td>2019</td>\n",
       "      <td>Mercedes-Benz</td>\n",
       "      <td>E</td>\n",
       "    </tr>\n",
       "    <tr>\n",
       "      <th>3</th>\n",
       "      <td>3</td>\n",
       "      <td>Mercedes E 220</td>\n",
       "      <td>38900</td>\n",
       "      <td>$</td>\n",
       "      <td>2.0 L</td>\n",
       "      <td>153 000 km</td>\n",
       "      <td>2017</td>\n",
       "      <td>Mercedes-Benz</td>\n",
       "      <td>E</td>\n",
       "    </tr>\n",
       "    <tr>\n",
       "      <th>4</th>\n",
       "      <td>4</td>\n",
       "      <td>Porsche Panamera 4S</td>\n",
       "      <td>76500</td>\n",
       "      <td>$</td>\n",
       "      <td>2.9 L</td>\n",
       "      <td>41 000 km</td>\n",
       "      <td>2018</td>\n",
       "      <td>Porsche</td>\n",
       "      <td>Panamera</td>\n",
       "    </tr>\n",
       "    <tr>\n",
       "      <th>...</th>\n",
       "      <td>...</td>\n",
       "      <td>...</td>\n",
       "      <td>...</td>\n",
       "      <td>...</td>\n",
       "      <td>...</td>\n",
       "      <td>...</td>\n",
       "      <td>...</td>\n",
       "      <td>...</td>\n",
       "      <td>...</td>\n",
       "    </tr>\n",
       "    <tr>\n",
       "      <th>35971</th>\n",
       "      <td>35971</td>\n",
       "      <td>Toyota Camry</td>\n",
       "      <td>30900</td>\n",
       "      <td>$</td>\n",
       "      <td>2.5 L</td>\n",
       "      <td>40 000 km</td>\n",
       "      <td>2020</td>\n",
       "      <td>Toyota</td>\n",
       "      <td>Camry</td>\n",
       "    </tr>\n",
       "    <tr>\n",
       "      <th>35972</th>\n",
       "      <td>35972</td>\n",
       "      <td>Volvo XC60</td>\n",
       "      <td>17900</td>\n",
       "      <td>$</td>\n",
       "      <td>3.0 L</td>\n",
       "      <td>204 559 km</td>\n",
       "      <td>2012</td>\n",
       "      <td>Volvo</td>\n",
       "      <td>XC60</td>\n",
       "    </tr>\n",
       "    <tr>\n",
       "      <th>35973</th>\n",
       "      <td>35973</td>\n",
       "      <td>Mercedes E 260</td>\n",
       "      <td>18500</td>\n",
       "      <td>AZN</td>\n",
       "      <td>2.6 L</td>\n",
       "      <td>313 070 km</td>\n",
       "      <td>2004</td>\n",
       "      <td>Mercedes-Benz</td>\n",
       "      <td>E</td>\n",
       "    </tr>\n",
       "    <tr>\n",
       "      <th>35974</th>\n",
       "      <td>35974</td>\n",
       "      <td>Kia Cerato</td>\n",
       "      <td>22800</td>\n",
       "      <td>AZN</td>\n",
       "      <td>2.0 L</td>\n",
       "      <td>113 895 km</td>\n",
       "      <td>2018</td>\n",
       "      <td>Kia</td>\n",
       "      <td>Cerato</td>\n",
       "    </tr>\n",
       "    <tr>\n",
       "      <th>35975</th>\n",
       "      <td>35975</td>\n",
       "      <td>Kia Carnival</td>\n",
       "      <td>41500</td>\n",
       "      <td>AZN</td>\n",
       "      <td>2.2 L</td>\n",
       "      <td>186 000 km</td>\n",
       "      <td>2014</td>\n",
       "      <td>Kia</td>\n",
       "      <td>Carnival</td>\n",
       "    </tr>\n",
       "  </tbody>\n",
       "</table>\n",
       "<p>35976 rows × 9 columns</p>\n",
       "</div>"
      ],
      "text/plain": [
       "       Unnamed: 0           Make_model  Price Currency Engine   Driven_km  \\\n",
       "0               0              Kia Rio  23500      AZN  1.6 L  106 000 km   \n",
       "1               1       Mercedes C 300  23800      AZN  3.0 L  198 000 km   \n",
       "2               2       Mercedes E 220  45500        $  2.2 L   70 600 km   \n",
       "3               3       Mercedes E 220  38900        $  2.0 L  153 000 km   \n",
       "4               4  Porsche Panamera 4S  76500        $  2.9 L   41 000 km   \n",
       "...           ...                  ...    ...      ...    ...         ...   \n",
       "35971       35971         Toyota Camry  30900        $  2.5 L   40 000 km   \n",
       "35972       35972           Volvo XC60  17900        $  3.0 L  204 559 km   \n",
       "35973       35973       Mercedes E 260  18500      AZN  2.6 L  313 070 km   \n",
       "35974       35974           Kia Cerato  22800      AZN  2.0 L  113 895 km   \n",
       "35975       35975         Kia Carnival  41500      AZN  2.2 L  186 000 km   \n",
       "\n",
       "       Production_year           Make     Model  \n",
       "0                 2018            Kia       Rio  \n",
       "1                 2011  Mercedes-Benz         C  \n",
       "2                 2019  Mercedes-Benz         E  \n",
       "3                 2017  Mercedes-Benz         E  \n",
       "4                 2018        Porsche  Panamera  \n",
       "...                ...            ...       ...  \n",
       "35971             2020         Toyota     Camry  \n",
       "35972             2012          Volvo      XC60  \n",
       "35973             2004  Mercedes-Benz         E  \n",
       "35974             2018            Kia    Cerato  \n",
       "35975             2014            Kia  Carnival  \n",
       "\n",
       "[35976 rows x 9 columns]"
      ]
     },
     "execution_count": 7,
     "metadata": {},
     "output_type": "execute_result"
    }
   ],
   "source": [
    "data"
   ]
  },
  {
   "cell_type": "code",
   "execution_count": 8,
   "metadata": {},
   "outputs": [
    {
     "data": {
      "text/plain": [
       "'[  16.05.2023  Valyuta hərracı barədə  ,   12.05.2023  Azərbaycan Respublikasının Mərkəzi Bankı tərəfindən “Maliyyə bazarlarında kibertəhlükəsizlik Strategiyası” qəbul edilmişdir  ,   11.05.2023  Valyuta hərracı barədə  ,   16.05.2023 tarixindən etibarən   1 USD - 1.7000    1 EUR - 1.8499    1 RUB - 0.0213    1 TRY - 0.0864     ,   04.05.2023 tarixindən etibarən   Aşağı həddi - 7.5%    Yuxarı həddi - 10.0%    Uçot faiz dərəcəsi - 9.0%   ]'"
      ]
     },
     "execution_count": 8,
     "metadata": {},
     "output_type": "execute_result"
    }
   ],
   "source": [
    "# get url for change currence from $ to man\n",
    "url='https://www.cbar.az/'\n",
    "page1=requests.get(url)\n",
    "html1=BeautifulSoup(page1.content, 'html.parser')\n",
    "currencies=html1.find_all('div', class_='relize_item')\n",
    "cur=re.sub('<[^>]+>', ' ', str(currencies))\n",
    "cur"
   ]
  },
  {
   "cell_type": "code",
   "execution_count": 9,
   "metadata": {},
   "outputs": [
    {
     "name": "stdout",
     "output_type": "stream",
     "text": [
      "USD:  1.7\n"
     ]
    }
   ],
   "source": [
    "cur_usd=float(cur[cur.find('USD')+5:cur.find('1 EUR')].replace(' ', ''))\n",
    "print('USD: ',cur_usd)"
   ]
  },
  {
   "cell_type": "code",
   "execution_count": 10,
   "metadata": {},
   "outputs": [
    {
     "data": {
      "text/plain": [
       "array(['AZN', '$'], dtype=object)"
      ]
     },
     "execution_count": 10,
     "metadata": {},
     "output_type": "execute_result"
    }
   ],
   "source": [
    "data['Currency'].unique()"
   ]
  },
  {
   "cell_type": "code",
   "execution_count": 11,
   "metadata": {},
   "outputs": [],
   "source": [
    "data['Price']=pd.to_numeric(data['Price'])"
   ]
  },
  {
   "cell_type": "code",
   "execution_count": 12,
   "metadata": {},
   "outputs": [],
   "source": [
    "data['Price in AZN']=data.loc[data['Currency']=='$', 'Price in AZN']=data['Price'] * cur_usd"
   ]
  },
  {
   "cell_type": "code",
   "execution_count": 13,
   "metadata": {},
   "outputs": [],
   "source": [
    "data.loc[data['Currency']=='AZN', 'Price in AZN']=data['Price']"
   ]
  },
  {
   "cell_type": "code",
   "execution_count": 15,
   "metadata": {},
   "outputs": [],
   "source": [
    "data.drop(['Unnamed: 0','Make_model','Price','Currency'], axis=1, inplace=True)"
   ]
  },
  {
   "cell_type": "code",
   "execution_count": 16,
   "metadata": {},
   "outputs": [],
   "source": [
    "data['Driven_km']=data['Driven_km'].str.split(' ', expand=True)[0]"
   ]
  },
  {
   "cell_type": "code",
   "execution_count": 17,
   "metadata": {},
   "outputs": [],
   "source": [
    "data['Engine']=data['Engine'].str.split(' ', expand=True)[0]"
   ]
  },
  {
   "cell_type": "code",
   "execution_count": 18,
   "metadata": {},
   "outputs": [
    {
     "data": {
      "text/html": [
       "<div>\n",
       "<style scoped>\n",
       "    .dataframe tbody tr th:only-of-type {\n",
       "        vertical-align: middle;\n",
       "    }\n",
       "\n",
       "    .dataframe tbody tr th {\n",
       "        vertical-align: top;\n",
       "    }\n",
       "\n",
       "    .dataframe thead th {\n",
       "        text-align: right;\n",
       "    }\n",
       "</style>\n",
       "<table border=\"1\" class=\"dataframe\">\n",
       "  <thead>\n",
       "    <tr style=\"text-align: right;\">\n",
       "      <th></th>\n",
       "      <th>Engine</th>\n",
       "      <th>Driven_km</th>\n",
       "      <th>Production_year</th>\n",
       "      <th>Make</th>\n",
       "      <th>Model</th>\n",
       "      <th>Price in AZN</th>\n",
       "    </tr>\n",
       "  </thead>\n",
       "  <tbody>\n",
       "    <tr>\n",
       "      <th>0</th>\n",
       "      <td>1.6</td>\n",
       "      <td>106</td>\n",
       "      <td>2018</td>\n",
       "      <td>Kia</td>\n",
       "      <td>Rio</td>\n",
       "      <td>23500.0</td>\n",
       "    </tr>\n",
       "    <tr>\n",
       "      <th>1</th>\n",
       "      <td>3.0</td>\n",
       "      <td>198</td>\n",
       "      <td>2011</td>\n",
       "      <td>Mercedes-Benz</td>\n",
       "      <td>C</td>\n",
       "      <td>23800.0</td>\n",
       "    </tr>\n",
       "    <tr>\n",
       "      <th>2</th>\n",
       "      <td>2.2</td>\n",
       "      <td>70</td>\n",
       "      <td>2019</td>\n",
       "      <td>Mercedes-Benz</td>\n",
       "      <td>E</td>\n",
       "      <td>77350.0</td>\n",
       "    </tr>\n",
       "    <tr>\n",
       "      <th>3</th>\n",
       "      <td>2.0</td>\n",
       "      <td>153</td>\n",
       "      <td>2017</td>\n",
       "      <td>Mercedes-Benz</td>\n",
       "      <td>E</td>\n",
       "      <td>66130.0</td>\n",
       "    </tr>\n",
       "    <tr>\n",
       "      <th>4</th>\n",
       "      <td>2.9</td>\n",
       "      <td>41</td>\n",
       "      <td>2018</td>\n",
       "      <td>Porsche</td>\n",
       "      <td>Panamera</td>\n",
       "      <td>130050.0</td>\n",
       "    </tr>\n",
       "    <tr>\n",
       "      <th>...</th>\n",
       "      <td>...</td>\n",
       "      <td>...</td>\n",
       "      <td>...</td>\n",
       "      <td>...</td>\n",
       "      <td>...</td>\n",
       "      <td>...</td>\n",
       "    </tr>\n",
       "    <tr>\n",
       "      <th>35971</th>\n",
       "      <td>2.5</td>\n",
       "      <td>40</td>\n",
       "      <td>2020</td>\n",
       "      <td>Toyota</td>\n",
       "      <td>Camry</td>\n",
       "      <td>52530.0</td>\n",
       "    </tr>\n",
       "    <tr>\n",
       "      <th>35972</th>\n",
       "      <td>3.0</td>\n",
       "      <td>204</td>\n",
       "      <td>2012</td>\n",
       "      <td>Volvo</td>\n",
       "      <td>XC60</td>\n",
       "      <td>30430.0</td>\n",
       "    </tr>\n",
       "    <tr>\n",
       "      <th>35973</th>\n",
       "      <td>2.6</td>\n",
       "      <td>313</td>\n",
       "      <td>2004</td>\n",
       "      <td>Mercedes-Benz</td>\n",
       "      <td>E</td>\n",
       "      <td>18500.0</td>\n",
       "    </tr>\n",
       "    <tr>\n",
       "      <th>35974</th>\n",
       "      <td>2.0</td>\n",
       "      <td>113</td>\n",
       "      <td>2018</td>\n",
       "      <td>Kia</td>\n",
       "      <td>Cerato</td>\n",
       "      <td>22800.0</td>\n",
       "    </tr>\n",
       "    <tr>\n",
       "      <th>35975</th>\n",
       "      <td>2.2</td>\n",
       "      <td>186</td>\n",
       "      <td>2014</td>\n",
       "      <td>Kia</td>\n",
       "      <td>Carnival</td>\n",
       "      <td>41500.0</td>\n",
       "    </tr>\n",
       "  </tbody>\n",
       "</table>\n",
       "<p>35976 rows × 6 columns</p>\n",
       "</div>"
      ],
      "text/plain": [
       "      Engine Driven_km  Production_year           Make     Model  Price in AZN\n",
       "0        1.6       106             2018            Kia       Rio       23500.0\n",
       "1        3.0       198             2011  Mercedes-Benz         C       23800.0\n",
       "2        2.2        70             2019  Mercedes-Benz         E       77350.0\n",
       "3        2.0       153             2017  Mercedes-Benz         E       66130.0\n",
       "4        2.9        41             2018        Porsche  Panamera      130050.0\n",
       "...      ...       ...              ...            ...       ...           ...\n",
       "35971    2.5        40             2020         Toyota     Camry       52530.0\n",
       "35972    3.0       204             2012          Volvo      XC60       30430.0\n",
       "35973    2.6       313             2004  Mercedes-Benz         E       18500.0\n",
       "35974    2.0       113             2018            Kia    Cerato       22800.0\n",
       "35975    2.2       186             2014            Kia  Carnival       41500.0\n",
       "\n",
       "[35976 rows x 6 columns]"
      ]
     },
     "execution_count": 18,
     "metadata": {},
     "output_type": "execute_result"
    }
   ],
   "source": [
    "data"
   ]
  },
  {
   "cell_type": "code",
   "execution_count": null,
   "metadata": {},
   "outputs": [],
   "source": []
  }
 ],
 "metadata": {
  "kernelspec": {
   "display_name": "Python 3",
   "language": "python",
   "name": "python3"
  },
  "language_info": {
   "codemirror_mode": {
    "name": "ipython",
    "version": 3
   },
   "file_extension": ".py",
   "mimetype": "text/x-python",
   "name": "python",
   "nbconvert_exporter": "python",
   "pygments_lexer": "ipython3",
   "version": "3.7.6"
  }
 },
 "nbformat": 4,
 "nbformat_minor": 4
}
