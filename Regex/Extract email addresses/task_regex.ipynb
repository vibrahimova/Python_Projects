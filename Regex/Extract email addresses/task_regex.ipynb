{
 "cells": [
  {
   "cell_type": "markdown",
   "metadata": {},
   "source": [
    "### Extracting email addresses using regular expressions in Python"
   ]
  },
  {
   "cell_type": "code",
   "execution_count": 1,
   "metadata": {},
   "outputs": [],
   "source": [
    "# A regular expression allows us to match a specific pattern in the given text. \n",
    "# Importing module required for regular expressions\n",
    "import re"
   ]
  },
  {
   "cell_type": "code",
   "execution_count": 46,
   "metadata": {},
   "outputs": [],
   "source": [
    "# Open the file in reading mode\n",
    "file = open('mbox.txt')\n"
   ]
  },
  {
   "cell_type": "markdown",
   "metadata": {},
   "source": [
    "***There is a file containing the contents of the mails, now I want to answer below questions:***\n",
    "\n",
    "How many emails have you received?\n",
    "\n",
    "How many emails came from unique emails?\n",
    "\n",
    "How many emails did you receive from unique hosts?"
   ]
  },
  {
   "cell_type": "code",
   "execution_count": 45,
   "metadata": {},
   "outputs": [
    {
     "name": "stdout",
     "output_type": "stream",
     "text": [
      "Count of all emails: 1797 \n",
      "Count of unique emails: 1797 \n",
      "All emails: ['stephen.marquard@uct.ac.za', 'louis@media.berkeley.edu', 'zqian@umich.edu', 'rjlowe@iupui.edu', 'zqian@umich.edu', 'rjlowe@iupui.edu', 'cwen@iupui.edu', 'cwen@iupui.edu', 'gsilver@umich.edu', 'gsilver@umich.edu', 'zqian@umich.edu', 'gsilver@umich.edu', 'wagnermr@iupui.edu', 'zqian@umich.edu', 'antranig@caret.cam.ac.uk', 'gopal.ramasammycook@gmail.com', 'david.horwitz@uct.ac.za', 'david.horwitz@uct.ac.za', 'david.horwitz@uct.ac.za', 'david.horwitz@uct.ac.za']\n",
      "Count of all unique hosts: 21 \n",
      "All unique hosts: {'gmail.com', 'et.gatech.edu', 'iupui.edu', 'rsmart.com', 'indiana.edu', 'ucdavis.edu', 'ufp.pt', 'media.berkeley.edu', 'utoronto.ca', 'umich.edu', 'caret.cam.ac.uk', 'whitman.edu', 'fhda.edu', 'bu.edu', 'uct.ac.za', 'stanford.edu', 'loi.nl', 'lancaster.ac.uk', 'txstate.edu', 'vt.edu', 'unicon.net'}\n"
     ]
    }
   ],
   "source": [
    "#Implement a for loop with a line variable. It reads every line in the text.\n",
    "emails=[]\n",
    "unique_hosts=set()\n",
    "for line in file:\n",
    "    \"\"\"Create an object of the search() function and include our pattern expression inside it,\n",
    "    after that include the line variable.\"\"\"\n",
    "\n",
    "    mail=re.search('^From: (\\S+@\\S+)', line)\n",
    "    host=re.search('^From: \\S+@(\\S+)', line)\n",
    "\n",
    "    \"\"\"This piece of code matches each strip of the text with the pattern.\n",
    "    the pattern says that: matches an email-like pattern consisting of one or more non-whitespace\n",
    "    characters, followed by an \"@\" symbol, and then followed by one or more non-whitespace characters \"\"\"\n",
    "    if mail:\n",
    "        emails.append(mail[1])\n",
    "    if host:\n",
    "        unique_hosts.add(host[1])\n",
    "\n",
    "\n",
    "print('Count of all emails: {0}'.format(len(emails)),'\\nCount of unique emails: {0}'.format(len(emails)),'\\nAll emails:',emails[:20])\n",
    "print('Count of all unique hosts: {0}'.format(len(unique_hosts)),'\\nAll unique hosts:',unique_hosts)\n",
    "\n",
    "# PS. I was filter first 20 email addresses\n"
   ]
  },
  {
   "cell_type": "markdown",
   "metadata": {},
   "source": [
    "***Also, we can extract all mail adresses in above file, which there are many mail adresses***"
   ]
  },
  {
   "cell_type": "code",
   "execution_count": 47,
   "metadata": {},
   "outputs": [
    {
     "name": "stdout",
     "output_type": "stream",
     "text": [
      "Count of all emails: 20140 \n",
      "Count of unique emails: 1844 \n",
      "Emails: ['stephen.marquard@uct.ac.za', 'postmaster@collab.sakaiproject.org', '010327@nakamura.uits.iupui.edu', 'source@collab.sakaiproject.org', 'source@collab.sakaiproject.org', 'source@collab.sakaiproject.org', 'source@collab.sakaiproject.org', 'stephen.marquard@uct.ac.za', 'source@collab.sakaiproject.org', 'stephen.marquard@uct.ac.za', 'stephen.marquard@uct.ac.za', 'louis@media.berkeley.edu', 'postmaster@collab.sakaiproject.org', '008125@nakamura.uits.iupui.edu', 'source@collab.sakaiproject.org', 'source@collab.sakaiproject.org', 'source@collab.sakaiproject.org', 'source@collab.sakaiproject.org', 'louis@media.berkeley.edu', 'source@collab.sakaiproject.org', 'louis@media.berkeley.edu', 'louis@media.berkeley.edu', 'zqian@umich.edu', 'postmaster@collab.sakaiproject.org', '92hb007923@nakamura.uits.iupui.edu', 'source@collab.sakaiproject.org', 'source@collab.sakaiproject.org', 'source@collab.sakaiproject.org', 'source@collab.sakaiproject.org', 'zqian@umich.edu', 'source@collab.sakaiproject.org', 'zqian@umich.edu', 'zqian@umich.edu', 'rjlowe@iupui.edu', 'postmaster@collab.sakaiproject.org', 'iem3007881@nakamura.uits.iupui.edu', 'source@collab.sakaiproject.org', 'source@collab.sakaiproject.org', 'source@collab.sakaiproject.org', 'source@collab.sakaiproject.org', 'rjlowe@iupui.edu', 'source@collab.sakaiproject.org', 'rjlowe@iupui.edu', 'rjlowe@iupui.edu', 'zqian@umich.edu', 'postmaster@collab.sakaiproject.org', '0007738@nakamura.uits.iupui.edu', 'source@collab.sakaiproject.org', 'source@collab.sakaiproject.org', 'source@collab.sakaiproject.org', 'source@collab.sakaiproject.org', 'zqian@umich.edu', 'source@collab.sakaiproject.org', 'zqian@umich.edu', 'zqian@umich.edu', 'zqian@umich.edu', 'rjlowe@iupui.edu', 'postmaster@collab.sakaiproject.org', '007705@nakamura.uits.iupui.edu', 'source@collab.sakaiproject.org', 'source@collab.sakaiproject.org', 'source@collab.sakaiproject.org', 'source@collab.sakaiproject.org', 'rjlowe@iupui.edu', 'source@collab.sakaiproject.org', 'rjlowe@iupui.edu', 'rjlowe@iupui.edu', 'cwen@iupui.edu', 'postmaster@collab.sakaiproject.org', '007313@nakamura.uits.iupui.edu', 'source@collab.sakaiproject.org', 'source@collab.sakaiproject.org', 'source@collab.sakaiproject.org', 'source@collab.sakaiproject.org', 'cwen@iupui.edu', 'source@collab.sakaiproject.org', 'cwen@iupui.edu', 'cwen@iupui.edu', 'hu2@iupui.edu', 'cwen@iupui.edu', 'postmaster@collab.sakaiproject.org', '007292@nakamura.uits.iupui.edu', 'source@collab.sakaiproject.org', 'source@collab.sakaiproject.org', 'source@collab.sakaiproject.org', 'source@collab.sakaiproject.org', 'cwen@iupui.edu', 'source@collab.sakaiproject.org', 'cwen@iupui.edu', 'cwen@iupui.edu', 'hu2@iupui.edu', 'gsilver@umich.edu', 'postmaster@collab.sakaiproject.org', 'b007221@nakamura.uits.iupui.edu', 'source@collab.sakaiproject.org', 'source@collab.sakaiproject.org', 'source@collab.sakaiproject.org', 'source@collab.sakaiproject.org', 'gsilver@umich.edu', 'source@collab.sakaiproject.org']\n"
     ]
    }
   ],
   "source": [
    "# extract all mails which contains '@'\n",
    "emails=re.findall(r\"[a-z0-9\\.\\-+_]+@[a-z0-9\\.\\-+_]+\\.[a-z]+\",''.join(file))\n",
    "\"\"\"\n",
    "The pattern says that: extract the text that starts with alphanumeric characters and \n",
    "has a “@” symbol after that again it has alphanumeric characters and has a dot “.” \n",
    "and after the dot again the text has the same type of characters.\n",
    "\"\"\"\n",
    "print('Count of all emails:',len(emails),'\\nCount of unique emails:',len(set(emails)),'\\nEmails:',emails[:100])\n",
    "\n",
    "# PS. I was filter first 100 email addresses"
   ]
  },
  {
   "cell_type": "code",
   "execution_count": null,
   "metadata": {},
   "outputs": [],
   "source": []
  },
  {
   "cell_type": "code",
   "execution_count": null,
   "metadata": {},
   "outputs": [],
   "source": []
  },
  {
   "cell_type": "code",
   "execution_count": null,
   "metadata": {},
   "outputs": [],
   "source": []
  }
 ],
 "metadata": {
  "kernelspec": {
   "display_name": "base",
   "language": "python",
   "name": "python3"
  },
  "language_info": {
   "codemirror_mode": {
    "name": "ipython",
    "version": 3
   },
   "file_extension": ".py",
   "mimetype": "text/x-python",
   "name": "python",
   "nbconvert_exporter": "python",
   "pygments_lexer": "ipython3",
   "version": "3.7.6"
  },
  "orig_nbformat": 4
 },
 "nbformat": 4,
 "nbformat_minor": 2
}
